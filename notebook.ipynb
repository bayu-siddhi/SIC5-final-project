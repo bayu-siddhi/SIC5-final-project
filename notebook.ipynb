{
  "cells": [
    {
      "cell_type": "markdown",
      "metadata": {
        "id": "QO8M5M77RraC"
      },
      "source": [
        "# **Data Prep & Cleaning**"
      ]
    },
    {
      "cell_type": "code",
      "execution_count": 45,
      "metadata": {
        "id": "IGA9sNNPPLPj"
      },
      "outputs": [],
      "source": [
        "import pandas as pd"
      ]
    },
    {
      "cell_type": "code",
      "execution_count": 46,
      "metadata": {
        "id": "d9y4azIRPQQx"
      },
      "outputs": [],
      "source": [
        "# Load the .xls file\n",
        "# df = pd.read_csv('/content/Data Indeks Standar Pencemar Udara (ISPU) di Provinsi DKI Jakarta.csv')\n",
        "df = pd.read_csv('Data Indeks Standar Pencemar Udara (ISPU) di Provinsi DKI Jakarta.csv')"
      ]
    },
    {
      "cell_type": "code",
      "execution_count": 47,
      "metadata": {
        "colab": {
          "base_uri": "https://localhost:8080/",
          "height": 313
        },
        "id": "iMwVMUsI0uTm",
        "outputId": "f5514651-a845-4366-993e-9f0f012f1c64"
      },
      "outputs": [
        {
          "data": {
            "text/html": [
              "<div>\n",
              "<style scoped>\n",
              "    .dataframe tbody tr th:only-of-type {\n",
              "        vertical-align: middle;\n",
              "    }\n",
              "\n",
              "    .dataframe tbody tr th {\n",
              "        vertical-align: top;\n",
              "    }\n",
              "\n",
              "    .dataframe thead th {\n",
              "        text-align: right;\n",
              "    }\n",
              "</style>\n",
              "<table border=\"1\" class=\"dataframe\">\n",
              "  <thead>\n",
              "    <tr style=\"text-align: right;\">\n",
              "      <th></th>\n",
              "      <th>periode_data</th>\n",
              "      <th>bulan</th>\n",
              "      <th>tanggal</th>\n",
              "      <th>stasiun</th>\n",
              "      <th>pm_sepuluh</th>\n",
              "      <th>pm_duakomalima</th>\n",
              "      <th>sulfur_dioksida</th>\n",
              "      <th>karbon_monoksida</th>\n",
              "      <th>ozon</th>\n",
              "      <th>nitrogen_dioksida</th>\n",
              "      <th>max</th>\n",
              "      <th>parameter_pencemar_kritis</th>\n",
              "      <th>kategori</th>\n",
              "    </tr>\n",
              "  </thead>\n",
              "  <tbody>\n",
              "    <tr>\n",
              "      <th>0</th>\n",
              "      <td>202401</td>\n",
              "      <td>1</td>\n",
              "      <td>21</td>\n",
              "      <td>DKI3  Jagakarsa</td>\n",
              "      <td>51.0</td>\n",
              "      <td>65.0</td>\n",
              "      <td>45.0</td>\n",
              "      <td>9.0</td>\n",
              "      <td>8.0</td>\n",
              "      <td>79.0</td>\n",
              "      <td>79.0</td>\n",
              "      <td>NaN</td>\n",
              "      <td>SEDANG</td>\n",
              "    </tr>\n",
              "    <tr>\n",
              "      <th>1</th>\n",
              "      <td>202401</td>\n",
              "      <td>1</td>\n",
              "      <td>22</td>\n",
              "      <td>DKI3  Jagakarsa</td>\n",
              "      <td>27.0</td>\n",
              "      <td>34.0</td>\n",
              "      <td>45.0</td>\n",
              "      <td>5.0</td>\n",
              "      <td>8.0</td>\n",
              "      <td>56.0</td>\n",
              "      <td>56.0</td>\n",
              "      <td>NaN</td>\n",
              "      <td>SEDANG</td>\n",
              "    </tr>\n",
              "    <tr>\n",
              "      <th>2</th>\n",
              "      <td>202401</td>\n",
              "      <td>1</td>\n",
              "      <td>23</td>\n",
              "      <td>DKI3  Jagakarsa</td>\n",
              "      <td>NaN</td>\n",
              "      <td>52.0</td>\n",
              "      <td>46.0</td>\n",
              "      <td>6.0</td>\n",
              "      <td>9.0</td>\n",
              "      <td>51.0</td>\n",
              "      <td>52.0</td>\n",
              "      <td>PM25</td>\n",
              "      <td>SEDANG</td>\n",
              "    </tr>\n",
              "    <tr>\n",
              "      <th>3</th>\n",
              "      <td>202401</td>\n",
              "      <td>1</td>\n",
              "      <td>24</td>\n",
              "      <td>DKI3  Jagakarsa</td>\n",
              "      <td>46.0</td>\n",
              "      <td>65.0</td>\n",
              "      <td>46.0</td>\n",
              "      <td>8.0</td>\n",
              "      <td>9.0</td>\n",
              "      <td>38.0</td>\n",
              "      <td>65.0</td>\n",
              "      <td>PM25</td>\n",
              "      <td>SEDANG</td>\n",
              "    </tr>\n",
              "    <tr>\n",
              "      <th>4</th>\n",
              "      <td>202401</td>\n",
              "      <td>1</td>\n",
              "      <td>25</td>\n",
              "      <td>DKI3  Jagakarsa</td>\n",
              "      <td>37.0</td>\n",
              "      <td>55.0</td>\n",
              "      <td>47.0</td>\n",
              "      <td>7.0</td>\n",
              "      <td>11.0</td>\n",
              "      <td>28.0</td>\n",
              "      <td>55.0</td>\n",
              "      <td>PM25</td>\n",
              "      <td>SEDANG</td>\n",
              "    </tr>\n",
              "  </tbody>\n",
              "</table>\n",
              "</div>"
            ],
            "text/plain": [
              "   periode_data  bulan  tanggal          stasiun  pm_sepuluh  pm_duakomalima  \\\n",
              "0        202401      1       21  DKI3  Jagakarsa        51.0            65.0   \n",
              "1        202401      1       22  DKI3  Jagakarsa        27.0            34.0   \n",
              "2        202401      1       23  DKI3  Jagakarsa         NaN            52.0   \n",
              "3        202401      1       24  DKI3  Jagakarsa        46.0            65.0   \n",
              "4        202401      1       25  DKI3  Jagakarsa        37.0            55.0   \n",
              "\n",
              "   sulfur_dioksida  karbon_monoksida  ozon  nitrogen_dioksida   max  \\\n",
              "0             45.0               9.0   8.0               79.0  79.0   \n",
              "1             45.0               5.0   8.0               56.0  56.0   \n",
              "2             46.0               6.0   9.0               51.0  52.0   \n",
              "3             46.0               8.0   9.0               38.0  65.0   \n",
              "4             47.0               7.0  11.0               28.0  55.0   \n",
              "\n",
              "  parameter_pencemar_kritis kategori  \n",
              "0                       NaN   SEDANG  \n",
              "1                       NaN   SEDANG  \n",
              "2                      PM25   SEDANG  \n",
              "3                      PM25   SEDANG  \n",
              "4                      PM25   SEDANG  "
            ]
          },
          "execution_count": 47,
          "metadata": {},
          "output_type": "execute_result"
        }
      ],
      "source": [
        "df.head()"
      ]
    },
    {
      "cell_type": "code",
      "execution_count": 48,
      "metadata": {
        "colab": {
          "base_uri": "https://localhost:8080/"
        },
        "id": "iMEhNFHK0eni",
        "outputId": "24f9d4e7-5769-496c-ace3-8ff510c69143"
      },
      "outputs": [
        {
          "name": "stdout",
          "output_type": "stream",
          "text": [
            "<class 'pandas.core.frame.DataFrame'>\n",
            "RangeIndex: 760 entries, 0 to 759\n",
            "Data columns (total 13 columns):\n",
            " #   Column                     Non-Null Count  Dtype  \n",
            "---  ------                     --------------  -----  \n",
            " 0   periode_data               760 non-null    int64  \n",
            " 1   bulan                      760 non-null    int64  \n",
            " 2   tanggal                    760 non-null    int64  \n",
            " 3   stasiun                    760 non-null    object \n",
            " 4   pm_sepuluh                 749 non-null    float64\n",
            " 5   pm_duakomalima             752 non-null    float64\n",
            " 6   sulfur_dioksida            754 non-null    float64\n",
            " 7   karbon_monoksida           751 non-null    float64\n",
            " 8   ozon                       755 non-null    float64\n",
            " 9   nitrogen_dioksida          744 non-null    float64\n",
            " 10  max                        756 non-null    float64\n",
            " 11  parameter_pencemar_kritis  736 non-null    object \n",
            " 12  kategori                   760 non-null    object \n",
            "dtypes: float64(7), int64(3), object(3)\n",
            "memory usage: 77.3+ KB\n"
          ]
        }
      ],
      "source": [
        "df.info()"
      ]
    },
    {
      "cell_type": "code",
      "execution_count": 49,
      "metadata": {
        "id": "tSxALunO0rHi"
      },
      "outputs": [],
      "source": [
        "df['periode_data'] = df['periode_data'].apply(lambda x: str(x)[:4])\n",
        "df = df.rename(columns={'periode_data': 'tahun'})"
      ]
    },
    {
      "cell_type": "code",
      "execution_count": 50,
      "metadata": {
        "colab": {
          "base_uri": "https://localhost:8080/"
        },
        "id": "PAUfAyw4PQt5",
        "outputId": "72f7a90d-965e-41c9-9d4e-1fccfd870811"
      },
      "outputs": [
        {
          "name": "stdout",
          "output_type": "stream",
          "text": [
            "Total rows with \"N/A\" values: 83\n"
          ]
        }
      ],
      "source": [
        "# Check and count rows with \"N/A\" values\n",
        "na_count = df.isna().sum().sum()\n",
        "print(f'Total rows with \"N/A\" values: {na_count}')"
      ]
    },
    {
      "cell_type": "code",
      "execution_count": 51,
      "metadata": {
        "colab": {
          "base_uri": "https://localhost:8080/"
        },
        "id": "YiSQeHH1PS6x",
        "outputId": "d834bd86-7818-4480-e580-6ce063133951"
      },
      "outputs": [
        {
          "name": "stdout",
          "output_type": "stream",
          "text": [
            "Total rows with \"N/A\" values: 0\n"
          ]
        }
      ],
      "source": [
        "# Delete rows with \"N/A\" values\n",
        "df = df.dropna().reset_index(drop=True)\n",
        "na_count = df.isna().sum().sum()\n",
        "print(f'Total rows with \"N/A\" values: {na_count}')"
      ]
    },
    {
      "cell_type": "code",
      "execution_count": 52,
      "metadata": {
        "colab": {
          "base_uri": "https://localhost:8080/",
          "height": 399
        },
        "id": "WhTeS35-PT57",
        "outputId": "71b39085-f00f-4c56-c0f3-86b52687179a"
      },
      "outputs": [
        {
          "data": {
            "text/html": [
              "<div>\n",
              "<style scoped>\n",
              "    .dataframe tbody tr th:only-of-type {\n",
              "        vertical-align: middle;\n",
              "    }\n",
              "\n",
              "    .dataframe tbody tr th {\n",
              "        vertical-align: top;\n",
              "    }\n",
              "\n",
              "    .dataframe thead th {\n",
              "        text-align: right;\n",
              "    }\n",
              "</style>\n",
              "<table border=\"1\" class=\"dataframe\">\n",
              "  <thead>\n",
              "    <tr style=\"text-align: right;\">\n",
              "      <th></th>\n",
              "      <th>tahun</th>\n",
              "      <th>bulan</th>\n",
              "      <th>tanggal</th>\n",
              "      <th>stasiun</th>\n",
              "      <th>pm_sepuluh</th>\n",
              "      <th>pm_duakomalima</th>\n",
              "      <th>sulfur_dioksida</th>\n",
              "      <th>karbon_monoksida</th>\n",
              "      <th>ozon</th>\n",
              "      <th>nitrogen_dioksida</th>\n",
              "      <th>max</th>\n",
              "      <th>parameter_pencemar_kritis</th>\n",
              "      <th>kategori</th>\n",
              "      <th>date</th>\n",
              "    </tr>\n",
              "  </thead>\n",
              "  <tbody>\n",
              "    <tr>\n",
              "      <th>195</th>\n",
              "      <td>2024</td>\n",
              "      <td>1</td>\n",
              "      <td>16</td>\n",
              "      <td>DKI5  Kebon Jeruk  Jakarta Barat</td>\n",
              "      <td>23.0</td>\n",
              "      <td>49.0</td>\n",
              "      <td>24.0</td>\n",
              "      <td>5.0</td>\n",
              "      <td>43.0</td>\n",
              "      <td>6.0</td>\n",
              "      <td>49.0</td>\n",
              "      <td>PM25</td>\n",
              "      <td>BAIK</td>\n",
              "      <td>2024-01-16</td>\n",
              "    </tr>\n",
              "    <tr>\n",
              "      <th>104</th>\n",
              "      <td>2024</td>\n",
              "      <td>1</td>\n",
              "      <td>15</td>\n",
              "      <td>DKI2  Kelapa Gading</td>\n",
              "      <td>52.0</td>\n",
              "      <td>67.0</td>\n",
              "      <td>58.0</td>\n",
              "      <td>12.0</td>\n",
              "      <td>14.0</td>\n",
              "      <td>32.0</td>\n",
              "      <td>67.0</td>\n",
              "      <td>PM25</td>\n",
              "      <td>SEDANG</td>\n",
              "      <td>2024-01-15</td>\n",
              "    </tr>\n",
              "    <tr>\n",
              "      <th>200</th>\n",
              "      <td>2024</td>\n",
              "      <td>1</td>\n",
              "      <td>21</td>\n",
              "      <td>DKI5  Kebon Jeruk  Jakarta Barat</td>\n",
              "      <td>26.0</td>\n",
              "      <td>51.0</td>\n",
              "      <td>37.0</td>\n",
              "      <td>10.0</td>\n",
              "      <td>18.0</td>\n",
              "      <td>5.0</td>\n",
              "      <td>51.0</td>\n",
              "      <td>PM25</td>\n",
              "      <td>SEDANG</td>\n",
              "      <td>2024-01-21</td>\n",
              "    </tr>\n",
              "    <tr>\n",
              "      <th>242</th>\n",
              "      <td>2024</td>\n",
              "      <td>4</td>\n",
              "      <td>23</td>\n",
              "      <td>DKI4 Lubang Buaya</td>\n",
              "      <td>63.0</td>\n",
              "      <td>84.0</td>\n",
              "      <td>29.0</td>\n",
              "      <td>23.0</td>\n",
              "      <td>11.0</td>\n",
              "      <td>6.0</td>\n",
              "      <td>84.0</td>\n",
              "      <td>PM25</td>\n",
              "      <td>SEDANG</td>\n",
              "      <td>2024-04-23</td>\n",
              "    </tr>\n",
              "    <tr>\n",
              "      <th>97</th>\n",
              "      <td>2024</td>\n",
              "      <td>4</td>\n",
              "      <td>11</td>\n",
              "      <td>DKI3 Jagakarsa</td>\n",
              "      <td>20.0</td>\n",
              "      <td>50.0</td>\n",
              "      <td>54.0</td>\n",
              "      <td>11.0</td>\n",
              "      <td>12.0</td>\n",
              "      <td>47.0</td>\n",
              "      <td>54.0</td>\n",
              "      <td>SO2</td>\n",
              "      <td>SEDANG</td>\n",
              "      <td>2024-04-11</td>\n",
              "    </tr>\n",
              "  </tbody>\n",
              "</table>\n",
              "</div>"
            ],
            "text/plain": [
              "    tahun  bulan  tanggal                           stasiun  pm_sepuluh  \\\n",
              "195  2024      1       16  DKI5  Kebon Jeruk  Jakarta Barat        23.0   \n",
              "104  2024      1       15               DKI2  Kelapa Gading        52.0   \n",
              "200  2024      1       21  DKI5  Kebon Jeruk  Jakarta Barat        26.0   \n",
              "242  2024      4       23                 DKI4 Lubang Buaya        63.0   \n",
              "97   2024      4       11                    DKI3 Jagakarsa        20.0   \n",
              "\n",
              "     pm_duakomalima  sulfur_dioksida  karbon_monoksida  ozon  \\\n",
              "195            49.0             24.0               5.0  43.0   \n",
              "104            67.0             58.0              12.0  14.0   \n",
              "200            51.0             37.0              10.0  18.0   \n",
              "242            84.0             29.0              23.0  11.0   \n",
              "97             50.0             54.0              11.0  12.0   \n",
              "\n",
              "     nitrogen_dioksida   max parameter_pencemar_kritis kategori       date  \n",
              "195                6.0  49.0                      PM25     BAIK 2024-01-16  \n",
              "104               32.0  67.0                      PM25   SEDANG 2024-01-15  \n",
              "200                5.0  51.0                      PM25   SEDANG 2024-01-21  \n",
              "242                6.0  84.0                      PM25   SEDANG 2024-04-23  \n",
              "97                47.0  54.0                       SO2   SEDANG 2024-04-11  "
            ]
          },
          "execution_count": 52,
          "metadata": {},
          "output_type": "execute_result"
        }
      ],
      "source": [
        "# Create the \"date\" column using \"periode_data\", \"bulan\", and \"tanggal\" columns\n",
        "df.loc[:, 'date'] = pd.to_datetime(df['tahun'].apply(lambda x: str(x)[:4]).astype(str) +\n",
        "                                   '-' + df['bulan'].astype(str) + '-' + df['tanggal'].astype(str),\n",
        "                                   format='%Y-%m-%d')\n",
        "df.sample(5)"
      ]
    },
    {
      "cell_type": "code",
      "execution_count": 53,
      "metadata": {
        "colab": {
          "base_uri": "https://localhost:8080/",
          "height": 206
        },
        "id": "8FQT-lAoPUyp",
        "outputId": "364bdfbc-c168-48e5-c14b-0277e02446bd"
      },
      "outputs": [
        {
          "data": {
            "text/html": [
              "<div>\n",
              "<style scoped>\n",
              "    .dataframe tbody tr th:only-of-type {\n",
              "        vertical-align: middle;\n",
              "    }\n",
              "\n",
              "    .dataframe tbody tr th {\n",
              "        vertical-align: top;\n",
              "    }\n",
              "\n",
              "    .dataframe thead th {\n",
              "        text-align: right;\n",
              "    }\n",
              "</style>\n",
              "<table border=\"1\" class=\"dataframe\">\n",
              "  <thead>\n",
              "    <tr style=\"text-align: right;\">\n",
              "      <th></th>\n",
              "      <th>tanggal</th>\n",
              "      <th>sulfur_dioksida</th>\n",
              "      <th>karbon_monoksida</th>\n",
              "      <th>kategori</th>\n",
              "    </tr>\n",
              "  </thead>\n",
              "  <tbody>\n",
              "    <tr>\n",
              "      <th>182</th>\n",
              "      <td>2024-01-01</td>\n",
              "      <td>40.0</td>\n",
              "      <td>18.0</td>\n",
              "      <td>SEDANG</td>\n",
              "    </tr>\n",
              "    <tr>\n",
              "      <th>695</th>\n",
              "      <td>2024-05-24</td>\n",
              "      <td>24.0</td>\n",
              "      <td>22.0</td>\n",
              "      <td>SEDANG</td>\n",
              "    </tr>\n",
              "    <tr>\n",
              "      <th>122</th>\n",
              "      <td>2024-01-21</td>\n",
              "      <td>46.0</td>\n",
              "      <td>6.0</td>\n",
              "      <td>BAIK</td>\n",
              "    </tr>\n",
              "    <tr>\n",
              "      <th>130</th>\n",
              "      <td>2024-01-31</td>\n",
              "      <td>47.0</td>\n",
              "      <td>19.0</td>\n",
              "      <td>BAIK</td>\n",
              "    </tr>\n",
              "    <tr>\n",
              "      <th>401</th>\n",
              "      <td>2024-03-19</td>\n",
              "      <td>23.0</td>\n",
              "      <td>14.0</td>\n",
              "      <td>BAIK</td>\n",
              "    </tr>\n",
              "  </tbody>\n",
              "</table>\n",
              "</div>"
            ],
            "text/plain": [
              "       tanggal  sulfur_dioksida  karbon_monoksida kategori\n",
              "182 2024-01-01             40.0              18.0   SEDANG\n",
              "695 2024-05-24             24.0              22.0   SEDANG\n",
              "122 2024-01-21             46.0               6.0     BAIK\n",
              "130 2024-01-31             47.0              19.0     BAIK\n",
              "401 2024-03-19             23.0              14.0     BAIK"
            ]
          },
          "execution_count": 53,
          "metadata": {},
          "output_type": "execute_result"
        }
      ],
      "source": [
        "# Keep \"date\", \"sulfur_dioksida\", and \"karbon_monoksida\" column, and rename \"date\" to \"tanggal\"\n",
        "df = df.loc[:, ['date', 'sulfur_dioksida', 'karbon_monoksida', 'kategori']]\n",
        "df = df.rename(columns={'date': 'tanggal'})\n",
        "df.sample(5)"
      ]
    },
    {
      "cell_type": "code",
      "execution_count": 54,
      "metadata": {
        "colab": {
          "base_uri": "https://localhost:8080/"
        },
        "id": "2jFn5V_Q2R4r",
        "outputId": "4c491bcd-03d3-410a-b649-857afbb0a045"
      },
      "outputs": [
        {
          "name": "stdout",
          "output_type": "stream",
          "text": [
            "5\n",
            "0\n"
          ]
        }
      ],
      "source": [
        "# Remove duplicate rows\n",
        "print(df.duplicated().sum())\n",
        "df = df.drop_duplicates().reset_index(drop=True)\n",
        "print(df.duplicated().sum())"
      ]
    },
    {
      "cell_type": "code",
      "execution_count": 55,
      "metadata": {
        "id": "8DZcYIgaPXMh"
      },
      "outputs": [],
      "source": [
        "# Save the cleaned data to a CSV file\n",
        "cleaned_file_path = 'cleaned_data.csv'\n",
        "df_save = df.copy()\n",
        "df_save = df_save[['karbon_monoksida', 'sulfur_dioksida', 'kategori']]\n",
        "df_save = df_save.rename(columns={'karbon_monoksida': 'mq2', 'sulfur_dioksida': 'mq136', 'kategori': 'category'})\n",
        "df_save.to_csv(cleaned_file_path, index=False)"
      ]
    },
    {
      "cell_type": "code",
      "execution_count": 56,
      "metadata": {
        "colab": {
          "base_uri": "https://localhost:8080/",
          "height": 423
        },
        "id": "ZuWHXOtNe0_e",
        "outputId": "9d59d616-5b4d-4ec4-db00-47cba6f017ec"
      },
      "outputs": [
        {
          "data": {
            "text/html": [
              "<div>\n",
              "<style scoped>\n",
              "    .dataframe tbody tr th:only-of-type {\n",
              "        vertical-align: middle;\n",
              "    }\n",
              "\n",
              "    .dataframe tbody tr th {\n",
              "        vertical-align: top;\n",
              "    }\n",
              "\n",
              "    .dataframe thead th {\n",
              "        text-align: right;\n",
              "    }\n",
              "</style>\n",
              "<table border=\"1\" class=\"dataframe\">\n",
              "  <thead>\n",
              "    <tr style=\"text-align: right;\">\n",
              "      <th></th>\n",
              "      <th>mq2</th>\n",
              "      <th>mq136</th>\n",
              "      <th>category</th>\n",
              "    </tr>\n",
              "  </thead>\n",
              "  <tbody>\n",
              "    <tr>\n",
              "      <th>0</th>\n",
              "      <td>8.0</td>\n",
              "      <td>46.0</td>\n",
              "      <td>SEDANG</td>\n",
              "    </tr>\n",
              "    <tr>\n",
              "      <th>1</th>\n",
              "      <td>7.0</td>\n",
              "      <td>47.0</td>\n",
              "      <td>SEDANG</td>\n",
              "    </tr>\n",
              "    <tr>\n",
              "      <th>2</th>\n",
              "      <td>7.0</td>\n",
              "      <td>50.0</td>\n",
              "      <td>SEDANG</td>\n",
              "    </tr>\n",
              "    <tr>\n",
              "      <th>3</th>\n",
              "      <td>8.0</td>\n",
              "      <td>48.0</td>\n",
              "      <td>SEDANG</td>\n",
              "    </tr>\n",
              "    <tr>\n",
              "      <th>4</th>\n",
              "      <td>12.0</td>\n",
              "      <td>48.0</td>\n",
              "      <td>SEDANG</td>\n",
              "    </tr>\n",
              "    <tr>\n",
              "      <th>...</th>\n",
              "      <td>...</td>\n",
              "      <td>...</td>\n",
              "      <td>...</td>\n",
              "    </tr>\n",
              "    <tr>\n",
              "      <th>696</th>\n",
              "      <td>18.0</td>\n",
              "      <td>28.0</td>\n",
              "      <td>SEDANG</td>\n",
              "    </tr>\n",
              "    <tr>\n",
              "      <th>697</th>\n",
              "      <td>21.0</td>\n",
              "      <td>28.0</td>\n",
              "      <td>TIDAK SEHAT</td>\n",
              "    </tr>\n",
              "    <tr>\n",
              "      <th>698</th>\n",
              "      <td>19.0</td>\n",
              "      <td>28.0</td>\n",
              "      <td>TIDAK SEHAT</td>\n",
              "    </tr>\n",
              "    <tr>\n",
              "      <th>699</th>\n",
              "      <td>17.0</td>\n",
              "      <td>28.0</td>\n",
              "      <td>SEDANG</td>\n",
              "    </tr>\n",
              "    <tr>\n",
              "      <th>700</th>\n",
              "      <td>21.0</td>\n",
              "      <td>27.0</td>\n",
              "      <td>TIDAK SEHAT</td>\n",
              "    </tr>\n",
              "  </tbody>\n",
              "</table>\n",
              "<p>701 rows × 3 columns</p>\n",
              "</div>"
            ],
            "text/plain": [
              "      mq2  mq136     category\n",
              "0     8.0   46.0       SEDANG\n",
              "1     7.0   47.0       SEDANG\n",
              "2     7.0   50.0       SEDANG\n",
              "3     8.0   48.0       SEDANG\n",
              "4    12.0   48.0       SEDANG\n",
              "..    ...    ...          ...\n",
              "696  18.0   28.0       SEDANG\n",
              "697  21.0   28.0  TIDAK SEHAT\n",
              "698  19.0   28.0  TIDAK SEHAT\n",
              "699  17.0   28.0       SEDANG\n",
              "700  21.0   27.0  TIDAK SEHAT\n",
              "\n",
              "[701 rows x 3 columns]"
            ]
          },
          "execution_count": 56,
          "metadata": {},
          "output_type": "execute_result"
        }
      ],
      "source": [
        "df_save"
      ]
    },
    {
      "cell_type": "markdown",
      "metadata": {
        "id": "DxyWA3kTRwbJ"
      },
      "source": [
        "# **ML Training**"
      ]
    },
    {
      "cell_type": "code",
      "execution_count": 57,
      "metadata": {
        "id": "4nKpdWqUSAeh"
      },
      "outputs": [],
      "source": [
        "from sklearn.preprocessing import LabelEncoder\n",
        "from sklearn.preprocessing import MinMaxScaler\n",
        "from sklearn.ensemble import RandomForestClassifier\n",
        "\n",
        "from imblearn.over_sampling import RandomOverSampler\n",
        "from sklearn.model_selection import train_test_split\n",
        "\n",
        "from sklearn.metrics import confusion_matrix\n",
        "from sklearn.metrics import classification_report"
      ]
    },
    {
      "cell_type": "markdown",
      "metadata": {
        "id": "GXH2U8qgcmo0"
      },
      "source": [
        "## **Load Dataset**"
      ]
    },
    {
      "cell_type": "code",
      "execution_count": 58,
      "metadata": {
        "colab": {
          "base_uri": "https://localhost:8080/",
          "height": 423
        },
        "id": "Vtmd2QtW2GTy",
        "outputId": "fb232993-113f-433b-cfbc-9abd9a6bd45c"
      },
      "outputs": [
        {
          "data": {
            "text/html": [
              "<div>\n",
              "<style scoped>\n",
              "    .dataframe tbody tr th:only-of-type {\n",
              "        vertical-align: middle;\n",
              "    }\n",
              "\n",
              "    .dataframe tbody tr th {\n",
              "        vertical-align: top;\n",
              "    }\n",
              "\n",
              "    .dataframe thead th {\n",
              "        text-align: right;\n",
              "    }\n",
              "</style>\n",
              "<table border=\"1\" class=\"dataframe\">\n",
              "  <thead>\n",
              "    <tr style=\"text-align: right;\">\n",
              "      <th></th>\n",
              "      <th>mq2</th>\n",
              "      <th>mq136</th>\n",
              "      <th>category</th>\n",
              "    </tr>\n",
              "  </thead>\n",
              "  <tbody>\n",
              "    <tr>\n",
              "      <th>0</th>\n",
              "      <td>8.0</td>\n",
              "      <td>46.0</td>\n",
              "      <td>SEDANG</td>\n",
              "    </tr>\n",
              "    <tr>\n",
              "      <th>1</th>\n",
              "      <td>7.0</td>\n",
              "      <td>47.0</td>\n",
              "      <td>SEDANG</td>\n",
              "    </tr>\n",
              "    <tr>\n",
              "      <th>2</th>\n",
              "      <td>7.0</td>\n",
              "      <td>50.0</td>\n",
              "      <td>SEDANG</td>\n",
              "    </tr>\n",
              "    <tr>\n",
              "      <th>3</th>\n",
              "      <td>8.0</td>\n",
              "      <td>48.0</td>\n",
              "      <td>SEDANG</td>\n",
              "    </tr>\n",
              "    <tr>\n",
              "      <th>4</th>\n",
              "      <td>12.0</td>\n",
              "      <td>48.0</td>\n",
              "      <td>SEDANG</td>\n",
              "    </tr>\n",
              "    <tr>\n",
              "      <th>...</th>\n",
              "      <td>...</td>\n",
              "      <td>...</td>\n",
              "      <td>...</td>\n",
              "    </tr>\n",
              "    <tr>\n",
              "      <th>696</th>\n",
              "      <td>18.0</td>\n",
              "      <td>28.0</td>\n",
              "      <td>SEDANG</td>\n",
              "    </tr>\n",
              "    <tr>\n",
              "      <th>697</th>\n",
              "      <td>21.0</td>\n",
              "      <td>28.0</td>\n",
              "      <td>TIDAK SEHAT</td>\n",
              "    </tr>\n",
              "    <tr>\n",
              "      <th>698</th>\n",
              "      <td>19.0</td>\n",
              "      <td>28.0</td>\n",
              "      <td>TIDAK SEHAT</td>\n",
              "    </tr>\n",
              "    <tr>\n",
              "      <th>699</th>\n",
              "      <td>17.0</td>\n",
              "      <td>28.0</td>\n",
              "      <td>SEDANG</td>\n",
              "    </tr>\n",
              "    <tr>\n",
              "      <th>700</th>\n",
              "      <td>21.0</td>\n",
              "      <td>27.0</td>\n",
              "      <td>TIDAK SEHAT</td>\n",
              "    </tr>\n",
              "  </tbody>\n",
              "</table>\n",
              "<p>701 rows × 3 columns</p>\n",
              "</div>"
            ],
            "text/plain": [
              "      mq2  mq136     category\n",
              "0     8.0   46.0       SEDANG\n",
              "1     7.0   47.0       SEDANG\n",
              "2     7.0   50.0       SEDANG\n",
              "3     8.0   48.0       SEDANG\n",
              "4    12.0   48.0       SEDANG\n",
              "..    ...    ...          ...\n",
              "696  18.0   28.0       SEDANG\n",
              "697  21.0   28.0  TIDAK SEHAT\n",
              "698  19.0   28.0  TIDAK SEHAT\n",
              "699  17.0   28.0       SEDANG\n",
              "700  21.0   27.0  TIDAK SEHAT\n",
              "\n",
              "[701 rows x 3 columns]"
            ]
          },
          "execution_count": 58,
          "metadata": {},
          "output_type": "execute_result"
        }
      ],
      "source": [
        "# Load the data\n",
        "df_train = pd.read_csv('cleaned_data.csv')\n",
        "df_train"
      ]
    },
    {
      "cell_type": "markdown",
      "metadata": {
        "id": "b2nlfDMIcqAg"
      },
      "source": [
        "## **Encode Target**"
      ]
    },
    {
      "cell_type": "code",
      "execution_count": 59,
      "metadata": {
        "colab": {
          "base_uri": "https://localhost:8080/"
        },
        "id": "Xcp_mHCGUxkK",
        "outputId": "cd53381b-9e53-4811-ed24-6c960af70fe3"
      },
      "outputs": [
        {
          "data": {
            "text/plain": [
              "array(['BAIK', 'SEDANG', 'TIDAK SEHAT'], dtype=object)"
            ]
          },
          "execution_count": 59,
          "metadata": {},
          "output_type": "execute_result"
        }
      ],
      "source": [
        "# Initialize the LabelEncoder\n",
        "label_encoder = LabelEncoder()\n",
        "# Fit and transform the 'kategori' column\n",
        "df_train['category'] = label_encoder.fit_transform(df_train['category'])\n",
        "label_encoder.classes_"
      ]
    },
    {
      "cell_type": "code",
      "execution_count": 60,
      "metadata": {
        "id": "exmdYJpqU8zS"
      },
      "outputs": [],
      "source": [
        "# Save the encoded data to a new CSV file\n",
        "df_train.to_csv('encoded_cleaned_data.csv', index=False)"
      ]
    },
    {
      "cell_type": "code",
      "execution_count": 61,
      "metadata": {
        "colab": {
          "base_uri": "https://localhost:8080/",
          "height": 423
        },
        "id": "00Am6xPaU-ey",
        "outputId": "58295c25-0c81-480c-fc52-417b84a95e5e"
      },
      "outputs": [
        {
          "data": {
            "text/html": [
              "<div>\n",
              "<style scoped>\n",
              "    .dataframe tbody tr th:only-of-type {\n",
              "        vertical-align: middle;\n",
              "    }\n",
              "\n",
              "    .dataframe tbody tr th {\n",
              "        vertical-align: top;\n",
              "    }\n",
              "\n",
              "    .dataframe thead th {\n",
              "        text-align: right;\n",
              "    }\n",
              "</style>\n",
              "<table border=\"1\" class=\"dataframe\">\n",
              "  <thead>\n",
              "    <tr style=\"text-align: right;\">\n",
              "      <th></th>\n",
              "      <th>mq2</th>\n",
              "      <th>mq136</th>\n",
              "      <th>category</th>\n",
              "    </tr>\n",
              "  </thead>\n",
              "  <tbody>\n",
              "    <tr>\n",
              "      <th>0</th>\n",
              "      <td>8.0</td>\n",
              "      <td>46.0</td>\n",
              "      <td>1</td>\n",
              "    </tr>\n",
              "    <tr>\n",
              "      <th>1</th>\n",
              "      <td>7.0</td>\n",
              "      <td>47.0</td>\n",
              "      <td>1</td>\n",
              "    </tr>\n",
              "    <tr>\n",
              "      <th>2</th>\n",
              "      <td>7.0</td>\n",
              "      <td>50.0</td>\n",
              "      <td>1</td>\n",
              "    </tr>\n",
              "    <tr>\n",
              "      <th>3</th>\n",
              "      <td>8.0</td>\n",
              "      <td>48.0</td>\n",
              "      <td>1</td>\n",
              "    </tr>\n",
              "    <tr>\n",
              "      <th>4</th>\n",
              "      <td>12.0</td>\n",
              "      <td>48.0</td>\n",
              "      <td>1</td>\n",
              "    </tr>\n",
              "    <tr>\n",
              "      <th>...</th>\n",
              "      <td>...</td>\n",
              "      <td>...</td>\n",
              "      <td>...</td>\n",
              "    </tr>\n",
              "    <tr>\n",
              "      <th>696</th>\n",
              "      <td>18.0</td>\n",
              "      <td>28.0</td>\n",
              "      <td>1</td>\n",
              "    </tr>\n",
              "    <tr>\n",
              "      <th>697</th>\n",
              "      <td>21.0</td>\n",
              "      <td>28.0</td>\n",
              "      <td>2</td>\n",
              "    </tr>\n",
              "    <tr>\n",
              "      <th>698</th>\n",
              "      <td>19.0</td>\n",
              "      <td>28.0</td>\n",
              "      <td>2</td>\n",
              "    </tr>\n",
              "    <tr>\n",
              "      <th>699</th>\n",
              "      <td>17.0</td>\n",
              "      <td>28.0</td>\n",
              "      <td>1</td>\n",
              "    </tr>\n",
              "    <tr>\n",
              "      <th>700</th>\n",
              "      <td>21.0</td>\n",
              "      <td>27.0</td>\n",
              "      <td>2</td>\n",
              "    </tr>\n",
              "  </tbody>\n",
              "</table>\n",
              "<p>701 rows × 3 columns</p>\n",
              "</div>"
            ],
            "text/plain": [
              "      mq2  mq136  category\n",
              "0     8.0   46.0         1\n",
              "1     7.0   47.0         1\n",
              "2     7.0   50.0         1\n",
              "3     8.0   48.0         1\n",
              "4    12.0   48.0         1\n",
              "..    ...    ...       ...\n",
              "696  18.0   28.0         1\n",
              "697  21.0   28.0         2\n",
              "698  19.0   28.0         2\n",
              "699  17.0   28.0         1\n",
              "700  21.0   27.0         2\n",
              "\n",
              "[701 rows x 3 columns]"
            ]
          },
          "execution_count": 61,
          "metadata": {},
          "output_type": "execute_result"
        }
      ],
      "source": [
        "# Load the encoded data\n",
        "df_train_encoded = pd.read_csv('encoded_cleaned_data.csv')\n",
        "df_train_encoded"
      ]
    },
    {
      "cell_type": "markdown",
      "metadata": {
        "id": "LFQbBr2Kcwie"
      },
      "source": [
        "## **Feature Selection**"
      ]
    },
    {
      "cell_type": "code",
      "execution_count": 62,
      "metadata": {
        "colab": {
          "base_uri": "https://localhost:8080/"
        },
        "id": "7mmwiE65SIWJ",
        "outputId": "3f9e2b0d-a9b5-4396-effc-c22b7b93f238"
      },
      "outputs": [
        {
          "data": {
            "text/plain": [
              "category\n",
              "1    574\n",
              "0     74\n",
              "2     53\n",
              "Name: count, dtype: int64"
            ]
          },
          "execution_count": 62,
          "metadata": {},
          "output_type": "execute_result"
        }
      ],
      "source": [
        "# Feature selection and preprocessing\n",
        "X = df_train_encoded[['mq2', 'mq136']]\n",
        "y = df_train_encoded['category']\n",
        "y.value_counts()"
      ]
    },
    {
      "cell_type": "markdown",
      "metadata": {
        "id": "F39xb7zHcyiK"
      },
      "source": [
        "## **Balancing**"
      ]
    },
    {
      "cell_type": "code",
      "execution_count": 63,
      "metadata": {
        "colab": {
          "base_uri": "https://localhost:8080/"
        },
        "id": "lbkp1Smj3ZJI",
        "outputId": "e693afbf-0c82-408b-d647-993ae9e016de"
      },
      "outputs": [
        {
          "data": {
            "text/plain": [
              "category\n",
              "1    574\n",
              "0    574\n",
              "2    574\n",
              "Name: count, dtype: int64"
            ]
          },
          "execution_count": 63,
          "metadata": {},
          "output_type": "execute_result"
        }
      ],
      "source": [
        "# Balances the value of the target variable\n",
        "balancer = RandomOverSampler(random_state=42)\n",
        "X_balanced, y_balanced = balancer.fit_resample(X, y)\n",
        "y_balanced.value_counts()"
      ]
    },
    {
      "cell_type": "markdown",
      "metadata": {
        "id": "RVqCaDeOc0So"
      },
      "source": [
        "## **Split Dataset**"
      ]
    },
    {
      "cell_type": "code",
      "execution_count": 64,
      "metadata": {
        "colab": {
          "base_uri": "https://localhost:8080/"
        },
        "id": "1yo73lTzSLVq",
        "outputId": "7da6d9ea-1514-4d94-a898-29f2ce582562"
      },
      "outputs": [
        {
          "name": "stdout",
          "output_type": "stream",
          "text": [
            "Data training: 1377\n",
            "Data testing: 345\n"
          ]
        }
      ],
      "source": [
        "# Split the data\n",
        "X_train, X_test, y_train, y_test = train_test_split(X_balanced, y_balanced, test_size=0.2, random_state=42, stratify=y_balanced)\n",
        "print(f\"Data training: {len(X_train)}\")\n",
        "print(f\"Data testing: {len(X_test)}\")"
      ]
    },
    {
      "cell_type": "markdown",
      "metadata": {
        "id": "Wxi7l43Lc2Fb"
      },
      "source": [
        "## **Scaling**"
      ]
    },
    {
      "cell_type": "code",
      "execution_count": 65,
      "metadata": {
        "colab": {
          "base_uri": "https://localhost:8080/",
          "height": 300
        },
        "id": "eP6MNlmG3HvS",
        "outputId": "3adfa223-244b-48c3-aed2-83a24fdc29ee"
      },
      "outputs": [
        {
          "data": {
            "text/html": [
              "<div>\n",
              "<style scoped>\n",
              "    .dataframe tbody tr th:only-of-type {\n",
              "        vertical-align: middle;\n",
              "    }\n",
              "\n",
              "    .dataframe tbody tr th {\n",
              "        vertical-align: top;\n",
              "    }\n",
              "\n",
              "    .dataframe thead th {\n",
              "        text-align: right;\n",
              "    }\n",
              "</style>\n",
              "<table border=\"1\" class=\"dataframe\">\n",
              "  <thead>\n",
              "    <tr style=\"text-align: right;\">\n",
              "      <th></th>\n",
              "      <th>mq2</th>\n",
              "      <th>mq136</th>\n",
              "    </tr>\n",
              "  </thead>\n",
              "  <tbody>\n",
              "    <tr>\n",
              "      <th>count</th>\n",
              "      <td>1377.000000</td>\n",
              "      <td>1377.000000</td>\n",
              "    </tr>\n",
              "    <tr>\n",
              "      <th>mean</th>\n",
              "      <td>16.105301</td>\n",
              "      <td>32.177923</td>\n",
              "    </tr>\n",
              "    <tr>\n",
              "      <th>std</th>\n",
              "      <td>7.985531</td>\n",
              "      <td>14.897992</td>\n",
              "    </tr>\n",
              "    <tr>\n",
              "      <th>min</th>\n",
              "      <td>3.000000</td>\n",
              "      <td>7.000000</td>\n",
              "    </tr>\n",
              "    <tr>\n",
              "      <th>25%</th>\n",
              "      <td>10.000000</td>\n",
              "      <td>23.000000</td>\n",
              "    </tr>\n",
              "    <tr>\n",
              "      <th>50%</th>\n",
              "      <td>15.000000</td>\n",
              "      <td>27.000000</td>\n",
              "    </tr>\n",
              "    <tr>\n",
              "      <th>75%</th>\n",
              "      <td>21.000000</td>\n",
              "      <td>48.000000</td>\n",
              "    </tr>\n",
              "    <tr>\n",
              "      <th>max</th>\n",
              "      <td>70.000000</td>\n",
              "      <td>61.000000</td>\n",
              "    </tr>\n",
              "  </tbody>\n",
              "</table>\n",
              "</div>"
            ],
            "text/plain": [
              "               mq2        mq136\n",
              "count  1377.000000  1377.000000\n",
              "mean     16.105301    32.177923\n",
              "std       7.985531    14.897992\n",
              "min       3.000000     7.000000\n",
              "25%      10.000000    23.000000\n",
              "50%      15.000000    27.000000\n",
              "75%      21.000000    48.000000\n",
              "max      70.000000    61.000000"
            ]
          },
          "execution_count": 65,
          "metadata": {},
          "output_type": "execute_result"
        }
      ],
      "source": [
        "X_train.describe()"
      ]
    },
    {
      "cell_type": "code",
      "execution_count": 66,
      "metadata": {
        "id": "3zQeWFO13NTL"
      },
      "outputs": [],
      "source": [
        "minmax_scaler = MinMaxScaler()\n",
        "X_train_scaled = minmax_scaler.fit_transform(X_train)\n",
        "X_test_scaled = minmax_scaler.transform(X_test)"
      ]
    },
    {
      "cell_type": "markdown",
      "metadata": {
        "id": "O2fr7A9qc57r"
      },
      "source": [
        "## **Training**"
      ]
    },
    {
      "cell_type": "code",
      "execution_count": 67,
      "metadata": {
        "colab": {
          "base_uri": "https://localhost:8080/",
          "height": 74
        },
        "id": "EPoAHjFISMw6",
        "outputId": "8e6b3e0f-46db-4c8c-8ba5-0d78df5af1cf"
      },
      "outputs": [
        {
          "data": {
            "text/html": [
              "<style>#sk-container-id-1 {color: black;}#sk-container-id-1 pre{padding: 0;}#sk-container-id-1 div.sk-toggleable {background-color: white;}#sk-container-id-1 label.sk-toggleable__label {cursor: pointer;display: block;width: 100%;margin-bottom: 0;padding: 0.3em;box-sizing: border-box;text-align: center;}#sk-container-id-1 label.sk-toggleable__label-arrow:before {content: \"▸\";float: left;margin-right: 0.25em;color: #696969;}#sk-container-id-1 label.sk-toggleable__label-arrow:hover:before {color: black;}#sk-container-id-1 div.sk-estimator:hover label.sk-toggleable__label-arrow:before {color: black;}#sk-container-id-1 div.sk-toggleable__content {max-height: 0;max-width: 0;overflow: hidden;text-align: left;background-color: #f0f8ff;}#sk-container-id-1 div.sk-toggleable__content pre {margin: 0.2em;color: black;border-radius: 0.25em;background-color: #f0f8ff;}#sk-container-id-1 input.sk-toggleable__control:checked~div.sk-toggleable__content {max-height: 200px;max-width: 100%;overflow: auto;}#sk-container-id-1 input.sk-toggleable__control:checked~label.sk-toggleable__label-arrow:before {content: \"▾\";}#sk-container-id-1 div.sk-estimator input.sk-toggleable__control:checked~label.sk-toggleable__label {background-color: #d4ebff;}#sk-container-id-1 div.sk-label input.sk-toggleable__control:checked~label.sk-toggleable__label {background-color: #d4ebff;}#sk-container-id-1 input.sk-hidden--visually {border: 0;clip: rect(1px 1px 1px 1px);clip: rect(1px, 1px, 1px, 1px);height: 1px;margin: -1px;overflow: hidden;padding: 0;position: absolute;width: 1px;}#sk-container-id-1 div.sk-estimator {font-family: monospace;background-color: #f0f8ff;border: 1px dotted black;border-radius: 0.25em;box-sizing: border-box;margin-bottom: 0.5em;}#sk-container-id-1 div.sk-estimator:hover {background-color: #d4ebff;}#sk-container-id-1 div.sk-parallel-item::after {content: \"\";width: 100%;border-bottom: 1px solid gray;flex-grow: 1;}#sk-container-id-1 div.sk-label:hover label.sk-toggleable__label {background-color: #d4ebff;}#sk-container-id-1 div.sk-serial::before {content: \"\";position: absolute;border-left: 1px solid gray;box-sizing: border-box;top: 0;bottom: 0;left: 50%;z-index: 0;}#sk-container-id-1 div.sk-serial {display: flex;flex-direction: column;align-items: center;background-color: white;padding-right: 0.2em;padding-left: 0.2em;position: relative;}#sk-container-id-1 div.sk-item {position: relative;z-index: 1;}#sk-container-id-1 div.sk-parallel {display: flex;align-items: stretch;justify-content: center;background-color: white;position: relative;}#sk-container-id-1 div.sk-item::before, #sk-container-id-1 div.sk-parallel-item::before {content: \"\";position: absolute;border-left: 1px solid gray;box-sizing: border-box;top: 0;bottom: 0;left: 50%;z-index: -1;}#sk-container-id-1 div.sk-parallel-item {display: flex;flex-direction: column;z-index: 1;position: relative;background-color: white;}#sk-container-id-1 div.sk-parallel-item:first-child::after {align-self: flex-end;width: 50%;}#sk-container-id-1 div.sk-parallel-item:last-child::after {align-self: flex-start;width: 50%;}#sk-container-id-1 div.sk-parallel-item:only-child::after {width: 0;}#sk-container-id-1 div.sk-dashed-wrapped {border: 1px dashed gray;margin: 0 0.4em 0.5em 0.4em;box-sizing: border-box;padding-bottom: 0.4em;background-color: white;}#sk-container-id-1 div.sk-label label {font-family: monospace;font-weight: bold;display: inline-block;line-height: 1.2em;}#sk-container-id-1 div.sk-label-container {text-align: center;}#sk-container-id-1 div.sk-container {/* jupyter's `normalize.less` sets `[hidden] { display: none; }` but bootstrap.min.css set `[hidden] { display: none !important; }` so we also need the `!important` here to be able to override the default hidden behavior on the sphinx rendered scikit-learn.org. See: https://github.com/scikit-learn/scikit-learn/issues/21755 */display: inline-block !important;position: relative;}#sk-container-id-1 div.sk-text-repr-fallback {display: none;}</style><div id=\"sk-container-id-1\" class=\"sk-top-container\"><div class=\"sk-text-repr-fallback\"><pre>RandomForestClassifier(random_state=42)</pre><b>In a Jupyter environment, please rerun this cell to show the HTML representation or trust the notebook. <br />On GitHub, the HTML representation is unable to render, please try loading this page with nbviewer.org.</b></div><div class=\"sk-container\" hidden><div class=\"sk-item\"><div class=\"sk-estimator sk-toggleable\"><input class=\"sk-toggleable__control sk-hidden--visually\" id=\"sk-estimator-id-1\" type=\"checkbox\" checked><label for=\"sk-estimator-id-1\" class=\"sk-toggleable__label sk-toggleable__label-arrow\">RandomForestClassifier</label><div class=\"sk-toggleable__content\"><pre>RandomForestClassifier(random_state=42)</pre></div></div></div></div></div>"
            ],
            "text/plain": [
              "RandomForestClassifier(random_state=42)"
            ]
          },
          "execution_count": 67,
          "metadata": {},
          "output_type": "execute_result"
        }
      ],
      "source": [
        "# Train a random forest model\n",
        "model = RandomForestClassifier(random_state=42)\n",
        "model.fit(X_train_scaled, y_train)"
      ]
    },
    {
      "cell_type": "code",
      "execution_count": 68,
      "metadata": {
        "colab": {
          "base_uri": "https://localhost:8080/"
        },
        "id": "gcj9V7Oz2xw0",
        "outputId": "aaa2fcb2-1897-4dcd-d042-7ecb4e200219"
      },
      "outputs": [
        {
          "name": "stdout",
          "output_type": "stream",
          "text": [
            "[[459   0   0]\n",
            " [ 28 398  33]\n",
            " [  0   0 459]] \n",
            "\n",
            "              precision    recall  f1-score   support\n",
            "\n",
            "           0       0.94      1.00      0.97       459\n",
            "           1       1.00      0.87      0.93       459\n",
            "           2       0.93      1.00      0.97       459\n",
            "\n",
            "    accuracy                           0.96      1377\n",
            "   macro avg       0.96      0.96      0.95      1377\n",
            "weighted avg       0.96      0.96      0.95      1377\n",
            "\n"
          ]
        }
      ],
      "source": [
        "y_train_pred = model.predict(X_train_scaled)\n",
        "print(confusion_matrix(y_train, y_train_pred), \"\\n\")\n",
        "print(classification_report(y_train, y_train_pred))"
      ]
    },
    {
      "cell_type": "markdown",
      "metadata": {
        "id": "BotJp74vc8Da"
      },
      "source": [
        "## **Evaluate**"
      ]
    },
    {
      "cell_type": "code",
      "execution_count": 69,
      "metadata": {
        "colab": {
          "base_uri": "https://localhost:8080/"
        },
        "id": "5PXP2YiOSOnJ",
        "outputId": "d4598841-cffc-482e-cd64-78c8a87e4cc4"
      },
      "outputs": [
        {
          "name": "stdout",
          "output_type": "stream",
          "text": [
            "[[115   0   0]\n",
            " [ 16  82  17]\n",
            " [  0   0 115]] \n",
            "\n",
            "              precision    recall  f1-score   support\n",
            "\n",
            "           0       0.88      1.00      0.93       115\n",
            "           1       1.00      0.71      0.83       115\n",
            "           2       0.87      1.00      0.93       115\n",
            "\n",
            "    accuracy                           0.90       345\n",
            "   macro avg       0.92      0.90      0.90       345\n",
            "weighted avg       0.92      0.90      0.90       345\n",
            "\n"
          ]
        }
      ],
      "source": [
        "# Evaluate the model\n",
        "y_test_pred = model.predict(X_test_scaled)\n",
        "print(confusion_matrix(y_test, y_test_pred), \"\\n\")\n",
        "print(classification_report(y_test, y_test_pred))"
      ]
    },
    {
      "cell_type": "markdown",
      "metadata": {
        "id": "OnxE8yMhR5pp"
      },
      "source": [
        "# **ML Export**"
      ]
    },
    {
      "cell_type": "code",
      "execution_count": 71,
      "metadata": {
        "id": "n5hnM-2QcY6Z"
      },
      "outputs": [],
      "source": [
        "import pickle\n",
        "import sklearn\n",
        "from sklearn.pipeline import Pipeline\n",
        "from sklearn.compose import ColumnTransformer"
      ]
    },
    {
      "cell_type": "code",
      "execution_count": 72,
      "metadata": {
        "colab": {
          "base_uri": "https://localhost:8080/"
        },
        "id": "EjRGIKnBnlpo",
        "outputId": "16ad8af1-5a5b-4eea-f87e-9f4ca19af522"
      },
      "outputs": [
        {
          "name": "stdout",
          "output_type": "stream",
          "text": [
            "1.3.2\n"
          ]
        }
      ],
      "source": [
        "print(sklearn.__version__)"
      ]
    },
    {
      "cell_type": "code",
      "execution_count": 73,
      "metadata": {
        "colab": {
          "base_uri": "https://localhost:8080/",
          "height": 125
        },
        "id": "qjrIZmwxcAN1",
        "outputId": "b7d97259-ef46-428b-f080-c77eb09229c0"
      },
      "outputs": [
        {
          "data": {
            "text/html": [
              "<style>#sk-container-id-2 {color: black;}#sk-container-id-2 pre{padding: 0;}#sk-container-id-2 div.sk-toggleable {background-color: white;}#sk-container-id-2 label.sk-toggleable__label {cursor: pointer;display: block;width: 100%;margin-bottom: 0;padding: 0.3em;box-sizing: border-box;text-align: center;}#sk-container-id-2 label.sk-toggleable__label-arrow:before {content: \"▸\";float: left;margin-right: 0.25em;color: #696969;}#sk-container-id-2 label.sk-toggleable__label-arrow:hover:before {color: black;}#sk-container-id-2 div.sk-estimator:hover label.sk-toggleable__label-arrow:before {color: black;}#sk-container-id-2 div.sk-toggleable__content {max-height: 0;max-width: 0;overflow: hidden;text-align: left;background-color: #f0f8ff;}#sk-container-id-2 div.sk-toggleable__content pre {margin: 0.2em;color: black;border-radius: 0.25em;background-color: #f0f8ff;}#sk-container-id-2 input.sk-toggleable__control:checked~div.sk-toggleable__content {max-height: 200px;max-width: 100%;overflow: auto;}#sk-container-id-2 input.sk-toggleable__control:checked~label.sk-toggleable__label-arrow:before {content: \"▾\";}#sk-container-id-2 div.sk-estimator input.sk-toggleable__control:checked~label.sk-toggleable__label {background-color: #d4ebff;}#sk-container-id-2 div.sk-label input.sk-toggleable__control:checked~label.sk-toggleable__label {background-color: #d4ebff;}#sk-container-id-2 input.sk-hidden--visually {border: 0;clip: rect(1px 1px 1px 1px);clip: rect(1px, 1px, 1px, 1px);height: 1px;margin: -1px;overflow: hidden;padding: 0;position: absolute;width: 1px;}#sk-container-id-2 div.sk-estimator {font-family: monospace;background-color: #f0f8ff;border: 1px dotted black;border-radius: 0.25em;box-sizing: border-box;margin-bottom: 0.5em;}#sk-container-id-2 div.sk-estimator:hover {background-color: #d4ebff;}#sk-container-id-2 div.sk-parallel-item::after {content: \"\";width: 100%;border-bottom: 1px solid gray;flex-grow: 1;}#sk-container-id-2 div.sk-label:hover label.sk-toggleable__label {background-color: #d4ebff;}#sk-container-id-2 div.sk-serial::before {content: \"\";position: absolute;border-left: 1px solid gray;box-sizing: border-box;top: 0;bottom: 0;left: 50%;z-index: 0;}#sk-container-id-2 div.sk-serial {display: flex;flex-direction: column;align-items: center;background-color: white;padding-right: 0.2em;padding-left: 0.2em;position: relative;}#sk-container-id-2 div.sk-item {position: relative;z-index: 1;}#sk-container-id-2 div.sk-parallel {display: flex;align-items: stretch;justify-content: center;background-color: white;position: relative;}#sk-container-id-2 div.sk-item::before, #sk-container-id-2 div.sk-parallel-item::before {content: \"\";position: absolute;border-left: 1px solid gray;box-sizing: border-box;top: 0;bottom: 0;left: 50%;z-index: -1;}#sk-container-id-2 div.sk-parallel-item {display: flex;flex-direction: column;z-index: 1;position: relative;background-color: white;}#sk-container-id-2 div.sk-parallel-item:first-child::after {align-self: flex-end;width: 50%;}#sk-container-id-2 div.sk-parallel-item:last-child::after {align-self: flex-start;width: 50%;}#sk-container-id-2 div.sk-parallel-item:only-child::after {width: 0;}#sk-container-id-2 div.sk-dashed-wrapped {border: 1px dashed gray;margin: 0 0.4em 0.5em 0.4em;box-sizing: border-box;padding-bottom: 0.4em;background-color: white;}#sk-container-id-2 div.sk-label label {font-family: monospace;font-weight: bold;display: inline-block;line-height: 1.2em;}#sk-container-id-2 div.sk-label-container {text-align: center;}#sk-container-id-2 div.sk-container {/* jupyter's `normalize.less` sets `[hidden] { display: none; }` but bootstrap.min.css set `[hidden] { display: none !important; }` so we also need the `!important` here to be able to override the default hidden behavior on the sphinx rendered scikit-learn.org. See: https://github.com/scikit-learn/scikit-learn/issues/21755 */display: inline-block !important;position: relative;}#sk-container-id-2 div.sk-text-repr-fallback {display: none;}</style><div id=\"sk-container-id-2\" class=\"sk-top-container\"><div class=\"sk-text-repr-fallback\"><pre>Pipeline(steps=[(&#x27;minmax_scaler&#x27;, MinMaxScaler()),\n",
              "                (&#x27;ml_model&#x27;, RandomForestClassifier())])</pre><b>In a Jupyter environment, please rerun this cell to show the HTML representation or trust the notebook. <br />On GitHub, the HTML representation is unable to render, please try loading this page with nbviewer.org.</b></div><div class=\"sk-container\" hidden><div class=\"sk-item sk-dashed-wrapped\"><div class=\"sk-label-container\"><div class=\"sk-label sk-toggleable\"><input class=\"sk-toggleable__control sk-hidden--visually\" id=\"sk-estimator-id-2\" type=\"checkbox\" ><label for=\"sk-estimator-id-2\" class=\"sk-toggleable__label sk-toggleable__label-arrow\">Pipeline</label><div class=\"sk-toggleable__content\"><pre>Pipeline(steps=[(&#x27;minmax_scaler&#x27;, MinMaxScaler()),\n",
              "                (&#x27;ml_model&#x27;, RandomForestClassifier())])</pre></div></div></div><div class=\"sk-serial\"><div class=\"sk-item\"><div class=\"sk-estimator sk-toggleable\"><input class=\"sk-toggleable__control sk-hidden--visually\" id=\"sk-estimator-id-3\" type=\"checkbox\" ><label for=\"sk-estimator-id-3\" class=\"sk-toggleable__label sk-toggleable__label-arrow\">MinMaxScaler</label><div class=\"sk-toggleable__content\"><pre>MinMaxScaler()</pre></div></div></div><div class=\"sk-item\"><div class=\"sk-estimator sk-toggleable\"><input class=\"sk-toggleable__control sk-hidden--visually\" id=\"sk-estimator-id-4\" type=\"checkbox\" ><label for=\"sk-estimator-id-4\" class=\"sk-toggleable__label sk-toggleable__label-arrow\">RandomForestClassifier</label><div class=\"sk-toggleable__content\"><pre>RandomForestClassifier()</pre></div></div></div></div></div></div></div>"
            ],
            "text/plain": [
              "Pipeline(steps=[('minmax_scaler', MinMaxScaler()),\n",
              "                ('ml_model', RandomForestClassifier())])"
            ]
          },
          "execution_count": 73,
          "metadata": {},
          "output_type": "execute_result"
        }
      ],
      "source": [
        "# Create machine learning pipeline\n",
        "num_attribs = ['mq2', 'mq136']\n",
        "\n",
        "pipeline = Pipeline([\n",
        "  ('minmax_scaler', MinMaxScaler()),\n",
        "  ('ml_model', RandomForestClassifier())\n",
        "])\n",
        "\n",
        "# Fit data on model pipeline\n",
        "pipeline.fit(X_train, y_train)"
      ]
    },
    {
      "cell_type": "code",
      "execution_count": 74,
      "metadata": {
        "colab": {
          "base_uri": "https://localhost:8080/"
        },
        "id": "-NJOi97OgrK_",
        "outputId": "0d52a6dc-1221-429e-8871-2f0dfa9ebcdb"
      },
      "outputs": [
        {
          "name": "stdout",
          "output_type": "stream",
          "text": [
            "[[459   0   0]\n",
            " [ 28 398  33]\n",
            " [  0   0 459]] \n",
            "\n",
            "              precision    recall  f1-score   support\n",
            "\n",
            "           0       0.94      1.00      0.97       459\n",
            "           1       1.00      0.87      0.93       459\n",
            "           2       0.93      1.00      0.97       459\n",
            "\n",
            "    accuracy                           0.96      1377\n",
            "   macro avg       0.96      0.96      0.95      1377\n",
            "weighted avg       0.96      0.96      0.95      1377\n",
            "\n"
          ]
        }
      ],
      "source": [
        "# Predict on training data\n",
        "y_train_pred = pipeline.predict(X_train)\n",
        "print(confusion_matrix(y_train, y_train_pred), \"\\n\")\n",
        "print(classification_report(y_train, y_train_pred))"
      ]
    },
    {
      "cell_type": "code",
      "execution_count": 75,
      "metadata": {
        "colab": {
          "base_uri": "https://localhost:8080/"
        },
        "id": "_b_Xg90-gsaG",
        "outputId": "e52090b7-5749-47fb-bc3a-0f834da8b507"
      },
      "outputs": [
        {
          "name": "stdout",
          "output_type": "stream",
          "text": [
            "[[115   0   0]\n",
            " [ 17  81  17]\n",
            " [  0   0 115]] \n",
            "\n",
            "              precision    recall  f1-score   support\n",
            "\n",
            "           0       0.87      1.00      0.93       115\n",
            "           1       1.00      0.70      0.83       115\n",
            "           2       0.87      1.00      0.93       115\n",
            "\n",
            "    accuracy                           0.90       345\n",
            "   macro avg       0.91      0.90      0.90       345\n",
            "weighted avg       0.91      0.90      0.90       345\n",
            "\n"
          ]
        }
      ],
      "source": [
        "# Predict on test data\n",
        "y_test_pred = pipeline.predict(X_test)\n",
        "print(confusion_matrix(y_test, y_test_pred), \"\\n\")\n",
        "print(classification_report(y_test, y_test_pred))"
      ]
    },
    {
      "cell_type": "code",
      "execution_count": 31,
      "metadata": {
        "id": "yJX2OYopSBrR"
      },
      "outputs": [],
      "source": [
        "# Save the model\n",
        "with open('random_forest.pkl', 'wb') as f:\n",
        "  pickle.dump(pipeline, f)"
      ]
    },
    {
      "cell_type": "code",
      "execution_count": 32,
      "metadata": {
        "id": "PyxM-Z6LjrPN"
      },
      "outputs": [],
      "source": [
        "# Test load model\n",
        "with open('random_forest.pkl', 'rb') as f:\n",
        "  loaded_model = pickle.load(f)"
      ]
    },
    {
      "cell_type": "code",
      "execution_count": 76,
      "metadata": {
        "colab": {
          "base_uri": "https://localhost:8080/"
        },
        "id": "CWNpaNv3i13t",
        "outputId": "1bade5d0-9748-4704-e508-02d0960193a9"
      },
      "outputs": [
        {
          "name": "stdout",
          "output_type": "stream",
          "text": [
            "BAIK\n"
          ]
        }
      ],
      "source": [
        "# Test loaded model on new data\n",
        "data = [{\n",
        "  'mq2':26,\n",
        "  'mq136':7\n",
        "}]\n",
        "feature = pd.DataFrame(data)\n",
        "\n",
        "AIR_QUALITY = ['BAIK', 'SEDANG', 'TIDAK SEHAT']\n",
        "\n",
        "# Predict on new data\n",
        "y_test_pred = pipeline.predict(feature)\n",
        "print(AIR_QUALITY[y_test_pred[0]])"
      ]
    }
  ],
  "metadata": {
    "colab": {
      "collapsed_sections": [
        "xS8ebWXRR8Up",
        "v7tP29rp-J_x"
      ],
      "provenance": []
    },
    "kernelspec": {
      "display_name": "Python 3",
      "name": "python3"
    },
    "language_info": {
      "codemirror_mode": {
        "name": "ipython",
        "version": 3
      },
      "file_extension": ".py",
      "mimetype": "text/x-python",
      "name": "python",
      "nbconvert_exporter": "python",
      "pygments_lexer": "ipython3",
      "version": "3.11.4"
    }
  },
  "nbformat": 4,
  "nbformat_minor": 0
}
